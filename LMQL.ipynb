{
 "cells": [
  {
   "cell_type": "code",
   "execution_count": 44,
   "id": "32e378de-974f-4740-bf9f-f817fa99d94c",
   "metadata": {},
   "outputs": [
    {
     "data": {
      "text/plain": [
       "True"
      ]
     },
     "execution_count": 44,
     "metadata": {},
     "output_type": "execute_result"
    }
   ],
   "source": [
    "import lmql\n",
    "import asyncio\n",
    "import os\n",
    "from dotenv import load_dotenv\n",
    "load_dotenv()"
   ]
  },
  {
   "cell_type": "markdown",
   "id": "6892404c-b339-4845-be72-d00e6fc69071",
   "metadata": {},
   "source": [
    "# Simple token constraint"
   ]
  },
  {
   "cell_type": "code",
   "execution_count": 7,
   "id": "918c2f16-c3e6-42ac-bdb0-519c5a5e17d6",
   "metadata": {},
   "outputs": [],
   "source": [
    "@lmql.query\n",
    "async def tipo_test():\n",
    "    '''lmql\n",
    "    argmax\n",
    "        \"Pregunta: Sevilla es una ciudad ubicada en que parte de Espana \\n\"\n",
    "        \"A) Sur \\n\"\n",
    "        \"B) Norte \\n\"\n",
    "        \"C) Este \\n\"\n",
    "        \"D) Afuera de Espana \\n\"\n",
    "        \"Respuesta: [RESPUESTA]\"\n",
    "    from\n",
    "        \"openai/text-davinci-003\"\n",
    "    where\n",
    "        RESPUESTA in set([\"A\", \"B\", \"C\", \"D\"])\n",
    "    '''"
   ]
  },
  {
   "cell_type": "code",
   "execution_count": 8,
   "id": "b7692251-9a00-4ae3-8a3f-d75472c3b361",
   "metadata": {},
   "outputs": [],
   "source": [
    "r = await tipo_test()"
   ]
  },
  {
   "cell_type": "code",
   "execution_count": 9,
   "id": "80b024e9-3eac-4056-9db9-61a1fadd5a69",
   "metadata": {},
   "outputs": [
    {
     "data": {
      "text/plain": [
       "[LMQLResult(prompt='Pregunta: Sevilla es una ciudad ubicada en que parte de Espana \\nA) Sur \\nB) Norte \\nC) Este \\nD) Afuera de Espana \\nRespuesta: A', variables={'RESPUESTA': 'A'}, distribution_variable=None, distribution_values=None)]"
      ]
     },
     "execution_count": 9,
     "metadata": {},
     "output_type": "execute_result"
    }
   ],
   "source": [
    "r"
   ]
  },
  {
   "cell_type": "code",
   "execution_count": 10,
   "id": "0ae22464-6471-4101-bfce-bf55b2a16390",
   "metadata": {},
   "outputs": [
    {
     "data": {
      "text/plain": [
       "{'RESPUESTA': 'A'}"
      ]
     },
     "execution_count": 10,
     "metadata": {},
     "output_type": "execute_result"
    }
   ],
   "source": [
    "r[0].variables"
   ]
  },
  {
   "cell_type": "markdown",
   "id": "4d9c1e27-61a6-4844-8133-07550138c8fa",
   "metadata": {},
   "source": [
    "# Distribution"
   ]
  },
  {
   "cell_type": "code",
   "execution_count": 20,
   "id": "73b82df9-ff42-4562-99b1-1388a7686c26",
   "metadata": {},
   "outputs": [],
   "source": [
    "@lmql.query\n",
    "async def sentiment_analysis(input):\n",
    "    '''lmql\n",
    "    argmax\n",
    "        \"Classifica el sentimiento de la siguiente frase como POS, NEG O NEUT: \\n\"\n",
    "        \"{input} \\n\"\n",
    "        \"El sentimento de la frase es [SENTIMENT]\"\n",
    "    from\n",
    "        \"openai/text-davinci-003\"\n",
    "    distribution\n",
    "        SENTIMENT in [\"POS\", \"NEUT\", \"NEG\"]\n",
    "    '''"
   ]
  },
  {
   "cell_type": "code",
   "execution_count": 21,
   "id": "a95768eb-396a-47a1-b2dd-c3364b6b51a3",
   "metadata": {},
   "outputs": [
    {
     "name": "stdout",
     "output_type": "stream",
     "text": [
      "warning: The OpenAI API has merged 1 token(s) server-side, which will reflect in inaccurate 0.0 scores in the decoding tree\n",
      "warning: The OpenAI API has merged 1 token(s) server-side, which will reflect in inaccurate 0.0 scores in the decoding tree\n",
      "warning: The OpenAI API has merged 1 token(s) server-side, which will reflect in inaccurate 0.0 scores in the decoding tree\n"
     ]
    }
   ],
   "source": [
    "r = await sentiment_analysis('Estoy muy feliz hoy!')"
   ]
  },
  {
   "cell_type": "code",
   "execution_count": 22,
   "id": "6664e56e-cbec-4ae8-b51b-6aa6ddd97b6c",
   "metadata": {},
   "outputs": [
    {
     "data": {
      "text/plain": [
       "dict_keys(['SENTIMENT', 'P(SENTIMENT)', 'log P(SENTIMENT)'])"
      ]
     },
     "execution_count": 22,
     "metadata": {},
     "output_type": "execute_result"
    }
   ],
   "source": [
    "r.variables.keys()"
   ]
  },
  {
   "cell_type": "code",
   "execution_count": 24,
   "id": "06690939-da34-4d3e-a70c-94828a41a6bb",
   "metadata": {},
   "outputs": [
    {
     "data": {
      "text/plain": [
       "[('POS', 0.3336283714733308),\n",
       " ('NEUT', 0.332771130433606),\n",
       " ('NEG', 0.3336004980930632)]"
      ]
     },
     "execution_count": 24,
     "metadata": {},
     "output_type": "execute_result"
    }
   ],
   "source": [
    "r.variables.get('P(SENTIMENT)')"
   ]
  },
  {
   "cell_type": "markdown",
   "id": "769b8103-b14d-42f2-9315-1c95db76958b",
   "metadata": {},
   "source": [
    "# JSON response"
   ]
  },
  {
   "cell_type": "code",
   "execution_count": 25,
   "id": "5d65e7bf-15e5-46a2-82ad-53b5c40f60d7",
   "metadata": {},
   "outputs": [],
   "source": [
    "from dataclasses import dataclass"
   ]
  },
  {
   "cell_type": "code",
   "execution_count": 32,
   "id": "f478fdc6-974a-4c05-9227-c2f93da61d66",
   "metadata": {},
   "outputs": [
    {
     "ename": "AssertionError",
     "evalue": "operator (type(MEETUP) is Meetup)\n is not supported.",
     "output_type": "error",
     "traceback": [
      "\u001b[0;31m---------------------------------------------------------------------------\u001b[0m",
      "\u001b[0;31mAssertionError\u001b[0m                            Traceback (most recent call last)",
      "\u001b[1;32m/Users/mathiashaugestad/Documents/Projects/guiding-llm/LMQL.ipynb Cell 15\u001b[0m line \u001b[0;36m1\n\u001b[0;32m----> <a href='vscode-notebook-cell:/Users/mathiashaugestad/Documents/Projects/guiding-llm/LMQL.ipynb#X16sZmlsZQ%3D%3D?line=0'>1</a>\u001b[0m \u001b[39m@lmql\u001b[39;49m\u001b[39m.\u001b[39;49mquery\n\u001b[1;32m      <a href='vscode-notebook-cell:/Users/mathiashaugestad/Documents/Projects/guiding-llm/LMQL.ipynb#X16sZmlsZQ%3D%3D?line=1'>2</a>\u001b[0m \u001b[39masync\u001b[39;49;00m \u001b[39mdef\u001b[39;49;00m \u001b[39mjsonize\u001b[39;49m():\n\u001b[1;32m      <a href='vscode-notebook-cell:/Users/mathiashaugestad/Documents/Projects/guiding-llm/LMQL.ipynb#X16sZmlsZQ%3D%3D?line=2'>3</a>\u001b[0m \u001b[39m    \u001b[39;49m\u001b[39m'''lmql\u001b[39;49;00m\n\u001b[1;32m      <a href='vscode-notebook-cell:/Users/mathiashaugestad/Documents/Projects/guiding-llm/LMQL.ipynb#X16sZmlsZQ%3D%3D?line=3'>4</a>\u001b[0m \u001b[39mfrom dataclasses import dataclass\u001b[39;49;00m\n\u001b[1;32m      <a href='vscode-notebook-cell:/Users/mathiashaugestad/Documents/Projects/guiding-llm/LMQL.ipynb#X16sZmlsZQ%3D%3D?line=4'>5</a>\u001b[0m \u001b[39mimport lmql\u001b[39;49;00m\n\u001b[0;32m   (...)\u001b[0m\n\u001b[1;32m     <a href='vscode-notebook-cell:/Users/mathiashaugestad/Documents/Projects/guiding-llm/LMQL.ipynb#X16sZmlsZQ%3D%3D?line=25'>26</a>\u001b[0m \u001b[39m    type(MEETUP) is Meetup\u001b[39;49;00m\n\u001b[1;32m     <a href='vscode-notebook-cell:/Users/mathiashaugestad/Documents/Projects/guiding-llm/LMQL.ipynb#X16sZmlsZQ%3D%3D?line=26'>27</a>\u001b[0m \u001b[39m'''\u001b[39;49;00m\n",
      "File \u001b[0;32m~/opt/anaconda3/envs/semantic-kernel/lib/python3.11/site-packages/lmql/__init__.py:182\u001b[0m, in \u001b[0;36mquery\u001b[0;34m(__fct__, input_variables, is_async, calling_frame, **extra_args)\u001b[0m\n\u001b[1;32m    180\u001b[0m \u001b[39mwith\u001b[39;00m \u001b[39mopen\u001b[39m(temp_lmql_file, \u001b[39m\"\u001b[39m\u001b[39mw\u001b[39m\u001b[39m\"\u001b[39m) \u001b[39mas\u001b[39;00m f:\n\u001b[1;32m    181\u001b[0m     f\u001b[39m.\u001b[39mwrite(code)\n\u001b[0;32m--> 182\u001b[0m module \u001b[39m=\u001b[39m load(temp_lmql_file, autoconnect\u001b[39m=\u001b[39;49m\u001b[39mTrue\u001b[39;49;00m, output_writer\u001b[39m=\u001b[39;49msilent)\n\u001b[1;32m    184\u001b[0m is_async \u001b[39m=\u001b[39m inspect\u001b[39m.\u001b[39miscoroutinefunction(fct)\n\u001b[1;32m    186\u001b[0m decorate_fct_signature \u001b[39m=\u001b[39m inspect\u001b[39m.\u001b[39msignature(fct)\n",
      "File \u001b[0;32m~/opt/anaconda3/envs/semantic-kernel/lib/python3.11/site-packages/lmql/__init__.py:49\u001b[0m, in \u001b[0;36mload\u001b[0;34m(filepath, autoconnect, force_model, output_writer)\u001b[0m\n\u001b[1;32m     47\u001b[0m \u001b[39m# compile query and obtain the where clause computational graph\u001b[39;00m\n\u001b[1;32m     48\u001b[0m compiler \u001b[39m=\u001b[39m LMQLCompiler()\n\u001b[0;32m---> 49\u001b[0m module \u001b[39m=\u001b[39m compiler\u001b[39m.\u001b[39;49mcompile(filepath)\n\u001b[1;32m     50\u001b[0m \u001b[39mif\u001b[39;00m module \u001b[39mis\u001b[39;00m \u001b[39mNone\u001b[39;00m: \n\u001b[1;32m     51\u001b[0m     \u001b[39mreturn\u001b[39;00m \u001b[39mNone\u001b[39;00m\n",
      "File \u001b[0;32m~/opt/anaconda3/envs/semantic-kernel/lib/python3.11/site-packages/lmql/language/compiler.py:748\u001b[0m, in \u001b[0;36mLMQLCompiler.compile\u001b[0;34m(self, filepath)\u001b[0m\n\u001b[1;32m    746\u001b[0m \u001b[39m# compilation\u001b[39;00m\n\u001b[1;32m    747\u001b[0m transformations \u001b[39m=\u001b[39m CompilerTransformations()\n\u001b[0;32m--> 748\u001b[0m transformations\u001b[39m.\u001b[39;49mtransform(q)\n\u001b[1;32m    750\u001b[0m model_name \u001b[39m=\u001b[39m astunparse\u001b[39m.\u001b[39munparse(q\u001b[39m.\u001b[39mfrom_ast)\u001b[39m.\u001b[39mstrip()\n\u001b[1;32m    751\u001b[0m model_name \u001b[39m=\u001b[39m model_name_aliases\u001b[39m.\u001b[39mget(model_name, model_name)\n",
      "File \u001b[0;32m~/opt/anaconda3/envs/semantic-kernel/lib/python3.11/site-packages/lmql/language/compiler.py:623\u001b[0m, in \u001b[0;36mCompilerTransformations.transform\u001b[0;34m(self, query)\u001b[0m\n\u001b[1;32m    621\u001b[0m \u001b[39mdef\u001b[39;00m \u001b[39mtransform\u001b[39m(\u001b[39mself\u001b[39m, query):\n\u001b[1;32m    622\u001b[0m     \u001b[39mfor\u001b[39;00m T \u001b[39min\u001b[39;00m \u001b[39mself\u001b[39m\u001b[39m.\u001b[39mtransformations:\n\u001b[0;32m--> 623\u001b[0m         t \u001b[39m=\u001b[39m T(query)\u001b[39m.\u001b[39;49mtransform()\n\u001b[1;32m    624\u001b[0m     \u001b[39mreturn\u001b[39;00m query\n",
      "File \u001b[0;32m~/opt/anaconda3/envs/semantic-kernel/lib/python3.11/site-packages/lmql/language/compiler.py:514\u001b[0m, in \u001b[0;36mWhereClauseTransformation.transform\u001b[0;34m(self)\u001b[0m\n\u001b[1;32m    511\u001b[0m \u001b[39mif\u001b[39;00m \u001b[39mtype\u001b[39m(\u001b[39mself\u001b[39m\u001b[39m.\u001b[39mquery\u001b[39m.\u001b[39mwhere) \u001b[39mis\u001b[39;00m ast\u001b[39m.\u001b[39mExpr: \n\u001b[1;32m    512\u001b[0m     \u001b[39mself\u001b[39m\u001b[39m.\u001b[39mquery\u001b[39m.\u001b[39mwhere \u001b[39m=\u001b[39m \u001b[39mself\u001b[39m\u001b[39m.\u001b[39mquery\u001b[39m.\u001b[39mwhere\u001b[39m.\u001b[39mvalue\n\u001b[0;32m--> 514\u001b[0m result \u001b[39m=\u001b[39m \u001b[39mself\u001b[39;49m\u001b[39m.\u001b[39;49mtransform_node(\u001b[39mself\u001b[39;49m\u001b[39m.\u001b[39;49mquery\u001b[39m.\u001b[39;49mwhere, snf\u001b[39m=\u001b[39;49msnf)\n\u001b[1;32m    516\u001b[0m \u001b[39mself\u001b[39m\u001b[39m.\u001b[39mquery\u001b[39m.\u001b[39mwhere \u001b[39m=\u001b[39m snf\u001b[39m.\u001b[39mstr()\n\u001b[1;32m    517\u001b[0m \u001b[39mself\u001b[39m\u001b[39m.\u001b[39mquery\u001b[39m.\u001b[39mwhere_expr \u001b[39m=\u001b[39m result\n",
      "File \u001b[0;32m~/opt/anaconda3/envs/semantic-kernel/lib/python3.11/site-packages/lmql/language/compiler.py:457\u001b[0m, in \u001b[0;36mLMQLConstraintTransformation.transform_node\u001b[0;34m(self, expr, snf)\u001b[0m\n\u001b[1;32m    450\u001b[0m             \u001b[39mreturn\u001b[39;00m snf\u001b[39m.\u001b[39madd(\u001b[39mf\u001b[39m\u001b[39m\"\u001b[39m\u001b[39m{\u001b[39;00mimpl\u001b[39m}\u001b[39;00m\u001b[39m([\u001b[39m\u001b[39m{\u001b[39;00mops_list\u001b[39m}\u001b[39;00m\u001b[39m])\u001b[39m\u001b[39m\"\u001b[39m)\n\u001b[1;32m    452\u001b[0m     \u001b[39m# if is_type_constraint(expr):\u001b[39;00m\n\u001b[1;32m    453\u001b[0m     \u001b[39m#     type_name = expr.comparators[0].id\u001b[39;00m\n\u001b[1;32m    454\u001b[0m     \u001b[39m#     var_name = expr.left.args[0].id\u001b[39;00m\n\u001b[1;32m    455\u001b[0m     \u001b[39m#     return snf.add(f\"{OPS_NAMESPACE}.TypeConstraint([{type_name}, {OPS_NAMESPACE}.Var('{var_name}')])\")\u001b[39;00m\n\u001b[0;32m--> 457\u001b[0m     \u001b[39massert\u001b[39;00m \u001b[39mFalse\u001b[39;00m, \u001b[39m\"\u001b[39m\u001b[39moperator \u001b[39m\u001b[39m{}\u001b[39;00m\u001b[39m is not supported.\u001b[39m\u001b[39m\"\u001b[39m\u001b[39m.\u001b[39mformat(astunparse\u001b[39m.\u001b[39munparse(expr))\n\u001b[1;32m    458\u001b[0m \u001b[39melif\u001b[39;00m \u001b[39mtype\u001b[39m(expr) \u001b[39mis\u001b[39;00m ast\u001b[39m.\u001b[39mConstant:\n\u001b[1;32m    459\u001b[0m     \u001b[39mreturn\u001b[39;00m \u001b[39mself\u001b[39m\u001b[39m.\u001b[39mdefault_transform_node(expr, snf)\u001b[39m.\u001b[39mstrip()\n",
      "\u001b[0;31mAssertionError\u001b[0m: operator (type(MEETUP) is Meetup)\n is not supported."
     ]
    }
   ],
   "source": [
    "# Only works in playground :p ?? \n",
    "@lmql.query\n",
    "async def jsonize():\n",
    "    '''lmql\n",
    "    from dataclasses import dataclass\n",
    "    import lmql\n",
    "\n",
    "    @dataclass\n",
    "    class Event:\n",
    "        nombre: str\n",
    "        descripcion: str\n",
    "            \n",
    "    @dataclass\n",
    "    class Meetup:\n",
    "        nombre: str\n",
    "        organizadores: str\n",
    "        event: Event\n",
    "            \n",
    "    argmax\n",
    "        \"Por favor, coloca el texto a continuación en un formato JSON estructurado: \\n\"\n",
    "        \"IA Generativa Sevilla es un grupo de meetup colocada en Sevilla, Espana. Los organizadores son Ivan y Mathias \\n\"\n",
    "        \"El evento de hoy trata de dominando un LLM utilizando LMQL \\n\"\n",
    "        \"structured: [MEETUP]\"\n",
    "    from\n",
    "        \"openai/text-davinci-003\"\n",
    "    where\n",
    "        type(MEETUP) is Meetup\n",
    "    '''"
   ]
  },
  {
   "cell_type": "code",
   "execution_count": 33,
   "id": "8ed37483-7d2c-439c-801e-fc16224f73a5",
   "metadata": {},
   "outputs": [],
   "source": [
    "@lmql.query\n",
    "async def jsonize():\n",
    "    '''lmql\n",
    "    argmax \n",
    "        \"\"\"\n",
    "        Por favor, coloca el texto a continuación en un formato JSON estructurado:\n",
    "\n",
    "        IA Generativa Sevilla es un grupo de meetup colocada en Sevilla, Espana. Los organizadores son Ivan y Mathias\n",
    "        El evento de hoy trata de dominando un LLM utilizando LMQL\n",
    "\n",
    "        {{\n",
    "        \"meetup-name\": \"[NAME]\",\n",
    "        \"location\": \"[LOCATION]\",\n",
    "        \"organizers\": \"[ORGANIZERS]\",\n",
    "        \"description\": \"[DESCRIPTION]\",\n",
    "        }}\n",
    "        \"\"\"\n",
    "    from\n",
    "        \"openai/text-davinci-003\" \n",
    "    where\n",
    "        STOPS_BEFORE(NAME, '\"') and STOPS_BEFORE(DESCRIPTION, '\"') and STOPS_BEFORE(LOCATION, '\"') and STOPS_BEFORE(ORGANIZERS, '\"') and len(NAME) < 25\n",
    "    '''"
   ]
  },
  {
   "cell_type": "code",
   "execution_count": 34,
   "id": "a73c3478",
   "metadata": {},
   "outputs": [
    {
     "name": "stderr",
     "output_type": "stream",
     "text": [
      "warning: the required logit_bias is too large to be handled by the OpenAI API and will be limited to the first 300 tokens. This can lead to the violation of the provided constraints or undesired model output. To avoid this use less broad or no constraints.\n",
      "warning: the required logit_bias is too large to be handled by the OpenAI API and will be limited to the first 300 tokens. This can lead to the violation of the provided constraints or undesired model output. To avoid this use less broad or no constraints.\n",
      "warning: the required logit_bias is too large to be handled by the OpenAI API and will be limited to the first 300 tokens. This can lead to the violation of the provided constraints or undesired model output. To avoid this use less broad or no constraints.\n"
     ]
    },
    {
     "data": {
      "text/plain": [
       "[LMQLResult(prompt='\\nPor favor, coloca el texto a continuación en un formato JSON estructurado:\\nIA Generativa Sevilla es un grupo de meetup colocada en Sevilla, Espana. Los organizadores son Ivan y Mathias\\nEl evento de hoy trata de dominando un LLM utilizando LMQL\\n{\\n\"meetup-name\": \"IA Genera\",\\n\"location\": \"Sevilla, Espana\",\\n\"organizers\": \"Ivan y Mathias\",\\n\"description\": \"Dominando un LLM utilizando LMQL\",\\n}\\n', variables={'NAME': 'IA Genera', 'LOCATION': 'Sevilla, Espana', 'ORGANIZERS': 'Ivan y Mathias', 'DESCRIPTION': 'Dominando un LLM utilizando LMQL'}, distribution_variable=None, distribution_values=None)]"
      ]
     },
     "execution_count": 34,
     "metadata": {},
     "output_type": "execute_result"
    }
   ],
   "source": [
    "r = await jsonize()\n",
    "r"
   ]
  },
  {
   "cell_type": "code",
   "execution_count": 38,
   "id": "4c98c3e8",
   "metadata": {},
   "outputs": [
    {
     "data": {
      "text/plain": [
       "{'NAME': 'IA Genera',\n",
       " 'LOCATION': 'Sevilla, Espana',\n",
       " 'ORGANIZERS': 'Ivan y Mathias',\n",
       " 'DESCRIPTION': 'Dominando un LLM utilizando LMQL'}"
      ]
     },
     "execution_count": 38,
     "metadata": {},
     "output_type": "execute_result"
    }
   ],
   "source": [
    "r[0].variables"
   ]
  },
  {
   "cell_type": "code",
   "execution_count": null,
   "id": "5027f7c2",
   "metadata": {},
   "outputs": [],
   "source": []
  },
  {
   "cell_type": "markdown",
   "id": "ff68d415",
   "metadata": {},
   "source": [
    "# Calling function / control flow"
   ]
  },
  {
   "cell_type": "code",
   "execution_count": 39,
   "id": "88691af2",
   "metadata": {},
   "outputs": [],
   "source": [
    "import requests"
   ]
  },
  {
   "cell_type": "code",
   "execution_count": 40,
   "id": "6f217dfc",
   "metadata": {},
   "outputs": [],
   "source": [
    "url = \"https://api.dictionaryapi.dev/api/v2/entries/en/{word}\""
   ]
  },
  {
   "cell_type": "code",
   "execution_count": 86,
   "id": "2620d943",
   "metadata": {},
   "outputs": [],
   "source": [
    "async def get_definitions(word):\n",
    "    data = requests.get(url.format(word='asynchronous')).json()\n",
    "    # Extract the definitions\n",
    "    definitions = []\n",
    "    for meaning in data[0]['meanings'][0]['definitions']:\n",
    "        definitions.append(f\"definition: {meaning['definition']}\")\n",
    "    return definitions"
   ]
  },
  {
   "cell_type": "code",
   "execution_count": 108,
   "id": "98b1f28a",
   "metadata": {},
   "outputs": [],
   "source": [
    "@lmql.query\n",
    "async def example_sentence(term):\n",
    "    '''lmql\n",
    "    argmax\n",
    "        \"\"\"\n",
    "        Please provide an example sentences for each definition of the word: {term}\n",
    "        \"\"\"\n",
    "\n",
    "        definitions = await get_definitions(term)\n",
    "        definition_strings = \"\\n\".join(definitions)\n",
    "\n",
    "        \"\"\"\n",
    "        Here are the dictionary definitions:\n",
    "        {definition_strings}\n",
    "        \"\"\"\n",
    "        \n",
    "        examples = []\n",
    "        for i in range(len(definitions)):\n",
    "            \"-[EXAMPLE]\" where STOPS_AT(EXAMPLE, \"\\n\")\n",
    "            examples.append(EXAMPLE.strip())\n",
    "    from\n",
    "        \"openai/text-davinci-003\"\n",
    "    '''"
   ]
  },
  {
   "cell_type": "code",
   "execution_count": 115,
   "id": "b874fda8",
   "metadata": {},
   "outputs": [],
   "source": [
    "response = await example_sentence(\"Asynchronous\")"
   ]
  }
 ],
 "metadata": {
  "kernelspec": {
   "display_name": "Python 3 (ipykernel)",
   "language": "python",
   "name": "python3"
  },
  "language_info": {
   "codemirror_mode": {
    "name": "ipython",
    "version": 3
   },
   "file_extension": ".py",
   "mimetype": "text/x-python",
   "name": "python",
   "nbconvert_exporter": "python",
   "pygments_lexer": "ipython3",
   "version": "3.11.4"
  }
 },
 "nbformat": 4,
 "nbformat_minor": 5
}
